{
 "cells": [
  {
   "cell_type": "markdown",
   "id": "ca397eef-0c2b-4b5d-afc8-630e0e48716f",
   "metadata": {},
   "source": [
    "# COMP4304 Final Project \n",
    "## Name: Ahmed Julkernain \n",
    "## MUN Student no: 202126082 "
   ]
  },
  {
   "cell_type": "code",
   "execution_count": 1,
   "id": "e5a64213-5f20-4f2b-b488-434bec2f2de6",
   "metadata": {},
   "outputs": [],
   "source": [
    "import pandas as pd \n",
    "import numpy as np \n",
    "import seaborn as sns \n",
    "import matplotlib.pyplot as plt \n",
    "import ipywidgets as widgets\n",
    "from ipywidgets import interact, Dropdown, IntSlider"
   ]
  },
  {
   "cell_type": "code",
   "execution_count": 2,
   "id": "079367b3-984e-45e8-aaea-993d32779708",
   "metadata": {},
   "outputs": [],
   "source": [
    "df=pd.read_csv('open_gym.csv')"
   ]
  },
  {
   "cell_type": "code",
   "execution_count": 3,
   "id": "9c9a1db7-cf89-4698-a9c9-0e3dea712af1",
   "metadata": {},
   "outputs": [
    {
     "data": {
      "text/html": [
       "<div>\n",
       "<style scoped>\n",
       "    .dataframe tbody tr th:only-of-type {\n",
       "        vertical-align: middle;\n",
       "    }\n",
       "\n",
       "    .dataframe tbody tr th {\n",
       "        vertical-align: top;\n",
       "    }\n",
       "\n",
       "    .dataframe thead th {\n",
       "        text-align: right;\n",
       "    }\n",
       "</style>\n",
       "<table border=\"1\" class=\"dataframe\">\n",
       "  <thead>\n",
       "    <tr style=\"text-align: right;\">\n",
       "      <th></th>\n",
       "      <th>open_gym_start</th>\n",
       "      <th>open_gym_end</th>\n",
       "      <th>open_gym_activity</th>\n",
       "      <th>group</th>\n",
       "      <th>facility_title</th>\n",
       "      <th>location</th>\n",
       "      <th>total_females</th>\n",
       "      <th>total_males</th>\n",
       "      <th>total_residents</th>\n",
       "      <th>total_non_residents</th>\n",
       "      <th>total</th>\n",
       "    </tr>\n",
       "  </thead>\n",
       "  <tbody>\n",
       "    <tr>\n",
       "      <th>0</th>\n",
       "      <td>2011-01-02 09:00:00</td>\n",
       "      <td>2011-01-02 11:30:00</td>\n",
       "      <td>Badminton</td>\n",
       "      <td>Everyone</td>\n",
       "      <td>Bond Park Community Center</td>\n",
       "      <td>Sycamore Gymnasium</td>\n",
       "      <td>0</td>\n",
       "      <td>3</td>\n",
       "      <td>2</td>\n",
       "      <td>1</td>\n",
       "      <td>3</td>\n",
       "    </tr>\n",
       "    <tr>\n",
       "      <th>1</th>\n",
       "      <td>2011-01-02 10:00:00</td>\n",
       "      <td>2011-01-02 12:00:00</td>\n",
       "      <td>Volleyball</td>\n",
       "      <td>Adult</td>\n",
       "      <td>Bond Park Community Center</td>\n",
       "      <td>Magnolia Gymnasium</td>\n",
       "      <td>0</td>\n",
       "      <td>2</td>\n",
       "      <td>1</td>\n",
       "      <td>1</td>\n",
       "      <td>2</td>\n",
       "    </tr>\n",
       "    <tr>\n",
       "      <th>2</th>\n",
       "      <td>2011-01-03 18:00:00</td>\n",
       "      <td>2011-01-03 22:00:00</td>\n",
       "      <td>Volleyball</td>\n",
       "      <td>Adult</td>\n",
       "      <td>Bond Park Community Center</td>\n",
       "      <td>Sycamore Gymnasium</td>\n",
       "      <td>0</td>\n",
       "      <td>2</td>\n",
       "      <td>1</td>\n",
       "      <td>1</td>\n",
       "      <td>2</td>\n",
       "    </tr>\n",
       "    <tr>\n",
       "      <th>3</th>\n",
       "      <td>2011-01-04 12:00:00</td>\n",
       "      <td>2011-01-04 14:00:00</td>\n",
       "      <td>Basketball</td>\n",
       "      <td>Adult</td>\n",
       "      <td>Bond Park Community Center</td>\n",
       "      <td>Sycamore Gymnasium</td>\n",
       "      <td>0</td>\n",
       "      <td>1</td>\n",
       "      <td>1</td>\n",
       "      <td>0</td>\n",
       "      <td>1</td>\n",
       "    </tr>\n",
       "    <tr>\n",
       "      <th>4</th>\n",
       "      <td>2011-01-04 18:00:00</td>\n",
       "      <td>2011-01-04 21:30:00</td>\n",
       "      <td>Open Gym</td>\n",
       "      <td>Everyone</td>\n",
       "      <td>Herbert C. Young Community Center</td>\n",
       "      <td>Coach Kay Yow Court</td>\n",
       "      <td>1</td>\n",
       "      <td>1</td>\n",
       "      <td>2</td>\n",
       "      <td>0</td>\n",
       "      <td>2</td>\n",
       "    </tr>\n",
       "    <tr>\n",
       "      <th>...</th>\n",
       "      <td>...</td>\n",
       "      <td>...</td>\n",
       "      <td>...</td>\n",
       "      <td>...</td>\n",
       "      <td>...</td>\n",
       "      <td>...</td>\n",
       "      <td>...</td>\n",
       "      <td>...</td>\n",
       "      <td>...</td>\n",
       "      <td>...</td>\n",
       "      <td>...</td>\n",
       "    </tr>\n",
       "    <tr>\n",
       "      <th>14454</th>\n",
       "      <td>2019-12-30 15:30:00</td>\n",
       "      <td>2019-12-30 17:30:00</td>\n",
       "      <td>Basketball</td>\n",
       "      <td>Youth/Teen</td>\n",
       "      <td>Herbert C. Young Community Center</td>\n",
       "      <td>Court 2</td>\n",
       "      <td>0</td>\n",
       "      <td>1</td>\n",
       "      <td>1</td>\n",
       "      <td>0</td>\n",
       "      <td>1</td>\n",
       "    </tr>\n",
       "    <tr>\n",
       "      <th>14455</th>\n",
       "      <td>2019-12-31 08:30:00</td>\n",
       "      <td>2019-12-31 12:30:00</td>\n",
       "      <td>Pickleball</td>\n",
       "      <td>Everyone</td>\n",
       "      <td>Bond Park Community Center</td>\n",
       "      <td>Magnolia Gymnasium</td>\n",
       "      <td>7</td>\n",
       "      <td>5</td>\n",
       "      <td>10</td>\n",
       "      <td>2</td>\n",
       "      <td>12</td>\n",
       "    </tr>\n",
       "    <tr>\n",
       "      <th>14456</th>\n",
       "      <td>2019-12-31 09:00:00</td>\n",
       "      <td>2019-12-31 12:00:00</td>\n",
       "      <td>Pickleball</td>\n",
       "      <td>Everyone</td>\n",
       "      <td>Middle Creek Community Center</td>\n",
       "      <td>South Gym</td>\n",
       "      <td>10</td>\n",
       "      <td>13</td>\n",
       "      <td>9</td>\n",
       "      <td>14</td>\n",
       "      <td>23</td>\n",
       "    </tr>\n",
       "    <tr>\n",
       "      <th>14457</th>\n",
       "      <td>2019-12-31 12:00:00</td>\n",
       "      <td>2019-12-31 14:30:00</td>\n",
       "      <td>Pickleball</td>\n",
       "      <td>Everyone</td>\n",
       "      <td>Middle Creek Community Center</td>\n",
       "      <td>South Gym</td>\n",
       "      <td>13</td>\n",
       "      <td>13</td>\n",
       "      <td>16</td>\n",
       "      <td>10</td>\n",
       "      <td>26</td>\n",
       "    </tr>\n",
       "    <tr>\n",
       "      <th>14458</th>\n",
       "      <td>2019-12-31 14:30:00</td>\n",
       "      <td>2019-12-31 16:30:00</td>\n",
       "      <td>Pickleball</td>\n",
       "      <td>Everyone</td>\n",
       "      <td>Middle Creek Community Center</td>\n",
       "      <td>South Gym</td>\n",
       "      <td>2</td>\n",
       "      <td>0</td>\n",
       "      <td>1</td>\n",
       "      <td>1</td>\n",
       "      <td>2</td>\n",
       "    </tr>\n",
       "  </tbody>\n",
       "</table>\n",
       "<p>14459 rows × 11 columns</p>\n",
       "</div>"
      ],
      "text/plain": [
       "            open_gym_start         open_gym_end open_gym_activity       group  \\\n",
       "0      2011-01-02 09:00:00  2011-01-02 11:30:00         Badminton    Everyone   \n",
       "1      2011-01-02 10:00:00  2011-01-02 12:00:00        Volleyball       Adult   \n",
       "2      2011-01-03 18:00:00  2011-01-03 22:00:00        Volleyball       Adult   \n",
       "3      2011-01-04 12:00:00  2011-01-04 14:00:00        Basketball       Adult   \n",
       "4      2011-01-04 18:00:00  2011-01-04 21:30:00          Open Gym    Everyone   \n",
       "...                    ...                  ...               ...         ...   \n",
       "14454  2019-12-30 15:30:00  2019-12-30 17:30:00        Basketball  Youth/Teen   \n",
       "14455  2019-12-31 08:30:00  2019-12-31 12:30:00        Pickleball    Everyone   \n",
       "14456  2019-12-31 09:00:00  2019-12-31 12:00:00        Pickleball    Everyone   \n",
       "14457  2019-12-31 12:00:00  2019-12-31 14:30:00        Pickleball    Everyone   \n",
       "14458  2019-12-31 14:30:00  2019-12-31 16:30:00        Pickleball    Everyone   \n",
       "\n",
       "                          facility_title             location  total_females  \\\n",
       "0             Bond Park Community Center   Sycamore Gymnasium              0   \n",
       "1             Bond Park Community Center   Magnolia Gymnasium              0   \n",
       "2             Bond Park Community Center   Sycamore Gymnasium              0   \n",
       "3             Bond Park Community Center   Sycamore Gymnasium              0   \n",
       "4      Herbert C. Young Community Center  Coach Kay Yow Court              1   \n",
       "...                                  ...                  ...            ...   \n",
       "14454  Herbert C. Young Community Center              Court 2              0   \n",
       "14455         Bond Park Community Center   Magnolia Gymnasium              7   \n",
       "14456      Middle Creek Community Center            South Gym             10   \n",
       "14457      Middle Creek Community Center            South Gym             13   \n",
       "14458      Middle Creek Community Center            South Gym              2   \n",
       "\n",
       "       total_males  total_residents  total_non_residents  total  \n",
       "0                3                2                    1      3  \n",
       "1                2                1                    1      2  \n",
       "2                2                1                    1      2  \n",
       "3                1                1                    0      1  \n",
       "4                1                2                    0      2  \n",
       "...            ...              ...                  ...    ...  \n",
       "14454            1                1                    0      1  \n",
       "14455            5               10                    2     12  \n",
       "14456           13                9                   14     23  \n",
       "14457           13               16                   10     26  \n",
       "14458            0                1                    1      2  \n",
       "\n",
       "[14459 rows x 11 columns]"
      ]
     },
     "execution_count": 3,
     "metadata": {},
     "output_type": "execute_result"
    }
   ],
   "source": [
    "df"
   ]
  },
  {
   "cell_type": "code",
   "execution_count": 4,
   "id": "53b5dd2a-9603-43c5-8e79-e1136189a4bd",
   "metadata": {},
   "outputs": [
    {
     "name": "stdout",
     "output_type": "stream",
     "text": [
      "<class 'pandas.core.frame.DataFrame'>\n",
      "RangeIndex: 14459 entries, 0 to 14458\n",
      "Data columns (total 11 columns):\n",
      " #   Column               Non-Null Count  Dtype \n",
      "---  ------               --------------  ----- \n",
      " 0   open_gym_start       14459 non-null  object\n",
      " 1   open_gym_end         14459 non-null  object\n",
      " 2   open_gym_activity    14459 non-null  object\n",
      " 3   group                14459 non-null  object\n",
      " 4   facility_title       14459 non-null  object\n",
      " 5   location             14459 non-null  object\n",
      " 6   total_females        14459 non-null  int64 \n",
      " 7   total_males          14459 non-null  int64 \n",
      " 8   total_residents      14459 non-null  int64 \n",
      " 9   total_non_residents  14459 non-null  int64 \n",
      " 10  total                14459 non-null  int64 \n",
      "dtypes: int64(5), object(6)\n",
      "memory usage: 1.2+ MB\n"
     ]
    }
   ],
   "source": [
    "df.info()"
   ]
  },
  {
   "cell_type": "markdown",
   "id": "0fd884c1-38a4-4aeb-ae48-0c70ebc8a565",
   "metadata": {},
   "source": [
    "## Data Preprocessing "
   ]
  },
  {
   "cell_type": "code",
   "execution_count": 5,
   "id": "741afe56-6408-418c-9a0e-50b8c173ee47",
   "metadata": {},
   "outputs": [],
   "source": [
    "#although the data is already in date time format, I am doing it again to ensure the data type is correct\n",
    "df['open_gym_start']=pd.to_datetime(df['open_gym_start']) \n",
    "df['open_gym_end']=pd.to_datetime(df['open_gym_end']) "
   ]
  },
  {
   "cell_type": "code",
   "execution_count": 6,
   "id": "b78730a4-3a93-42a7-8c68-ba8c636b8a0b",
   "metadata": {},
   "outputs": [],
   "source": [
    "df['duration_hours']=(df['open_gym_end']-df['open_gym_start']).dt.total_seconds()/3600        "
   ]
  },
  {
   "cell_type": "markdown",
   "id": "0a75406d-82d7-4beb-879d-7e2042fc89d6",
   "metadata": {},
   "source": [
    "### Encode the data"
   ]
  },
  {
   "cell_type": "code",
   "execution_count": 7,
   "id": "9bbf34de-9921-4490-ba0e-18bb43ac51ae",
   "metadata": {},
   "outputs": [
    {
     "data": {
      "text/html": [
       "<div>\n",
       "<style scoped>\n",
       "    .dataframe tbody tr th:only-of-type {\n",
       "        vertical-align: middle;\n",
       "    }\n",
       "\n",
       "    .dataframe tbody tr th {\n",
       "        vertical-align: top;\n",
       "    }\n",
       "\n",
       "    .dataframe thead th {\n",
       "        text-align: right;\n",
       "    }\n",
       "</style>\n",
       "<table border=\"1\" class=\"dataframe\">\n",
       "  <thead>\n",
       "    <tr style=\"text-align: right;\">\n",
       "      <th></th>\n",
       "      <th>open_gym_start</th>\n",
       "      <th>open_gym_end</th>\n",
       "      <th>open_gym_activity</th>\n",
       "      <th>group</th>\n",
       "      <th>facility_title</th>\n",
       "      <th>location</th>\n",
       "      <th>total_females</th>\n",
       "      <th>total_males</th>\n",
       "      <th>total_residents</th>\n",
       "      <th>total_non_residents</th>\n",
       "      <th>total</th>\n",
       "      <th>duration_hours</th>\n",
       "    </tr>\n",
       "  </thead>\n",
       "  <tbody>\n",
       "    <tr>\n",
       "      <th>0</th>\n",
       "      <td>2011-01-02 09:00:00</td>\n",
       "      <td>2011-01-02 11:30:00</td>\n",
       "      <td>0</td>\n",
       "      <td>1</td>\n",
       "      <td>0</td>\n",
       "      <td>37</td>\n",
       "      <td>0</td>\n",
       "      <td>3</td>\n",
       "      <td>2</td>\n",
       "      <td>1</td>\n",
       "      <td>3</td>\n",
       "      <td>2.5</td>\n",
       "    </tr>\n",
       "    <tr>\n",
       "      <th>1</th>\n",
       "      <td>2011-01-02 10:00:00</td>\n",
       "      <td>2011-01-02 12:00:00</td>\n",
       "      <td>8</td>\n",
       "      <td>0</td>\n",
       "      <td>0</td>\n",
       "      <td>14</td>\n",
       "      <td>0</td>\n",
       "      <td>2</td>\n",
       "      <td>1</td>\n",
       "      <td>1</td>\n",
       "      <td>2</td>\n",
       "      <td>2.0</td>\n",
       "    </tr>\n",
       "    <tr>\n",
       "      <th>2</th>\n",
       "      <td>2011-01-03 18:00:00</td>\n",
       "      <td>2011-01-03 22:00:00</td>\n",
       "      <td>8</td>\n",
       "      <td>0</td>\n",
       "      <td>0</td>\n",
       "      <td>37</td>\n",
       "      <td>0</td>\n",
       "      <td>2</td>\n",
       "      <td>1</td>\n",
       "      <td>1</td>\n",
       "      <td>2</td>\n",
       "      <td>4.0</td>\n",
       "    </tr>\n",
       "    <tr>\n",
       "      <th>3</th>\n",
       "      <td>2011-01-04 12:00:00</td>\n",
       "      <td>2011-01-04 14:00:00</td>\n",
       "      <td>1</td>\n",
       "      <td>0</td>\n",
       "      <td>0</td>\n",
       "      <td>37</td>\n",
       "      <td>0</td>\n",
       "      <td>1</td>\n",
       "      <td>1</td>\n",
       "      <td>0</td>\n",
       "      <td>1</td>\n",
       "      <td>2.0</td>\n",
       "    </tr>\n",
       "    <tr>\n",
       "      <th>4</th>\n",
       "      <td>2011-01-04 18:00:00</td>\n",
       "      <td>2011-01-04 21:30:00</td>\n",
       "      <td>3</td>\n",
       "      <td>1</td>\n",
       "      <td>2</td>\n",
       "      <td>4</td>\n",
       "      <td>1</td>\n",
       "      <td>1</td>\n",
       "      <td>2</td>\n",
       "      <td>0</td>\n",
       "      <td>2</td>\n",
       "      <td>3.5</td>\n",
       "    </tr>\n",
       "    <tr>\n",
       "      <th>...</th>\n",
       "      <td>...</td>\n",
       "      <td>...</td>\n",
       "      <td>...</td>\n",
       "      <td>...</td>\n",
       "      <td>...</td>\n",
       "      <td>...</td>\n",
       "      <td>...</td>\n",
       "      <td>...</td>\n",
       "      <td>...</td>\n",
       "      <td>...</td>\n",
       "      <td>...</td>\n",
       "      <td>...</td>\n",
       "    </tr>\n",
       "    <tr>\n",
       "      <th>14454</th>\n",
       "      <td>2019-12-30 15:30:00</td>\n",
       "      <td>2019-12-30 17:30:00</td>\n",
       "      <td>1</td>\n",
       "      <td>4</td>\n",
       "      <td>2</td>\n",
       "      <td>9</td>\n",
       "      <td>0</td>\n",
       "      <td>1</td>\n",
       "      <td>1</td>\n",
       "      <td>0</td>\n",
       "      <td>1</td>\n",
       "      <td>2.0</td>\n",
       "    </tr>\n",
       "    <tr>\n",
       "      <th>14455</th>\n",
       "      <td>2019-12-31 08:30:00</td>\n",
       "      <td>2019-12-31 12:30:00</td>\n",
       "      <td>5</td>\n",
       "      <td>1</td>\n",
       "      <td>0</td>\n",
       "      <td>14</td>\n",
       "      <td>7</td>\n",
       "      <td>5</td>\n",
       "      <td>10</td>\n",
       "      <td>2</td>\n",
       "      <td>12</td>\n",
       "      <td>4.0</td>\n",
       "    </tr>\n",
       "    <tr>\n",
       "      <th>14456</th>\n",
       "      <td>2019-12-31 09:00:00</td>\n",
       "      <td>2019-12-31 12:00:00</td>\n",
       "      <td>5</td>\n",
       "      <td>1</td>\n",
       "      <td>3</td>\n",
       "      <td>24</td>\n",
       "      <td>10</td>\n",
       "      <td>13</td>\n",
       "      <td>9</td>\n",
       "      <td>14</td>\n",
       "      <td>23</td>\n",
       "      <td>3.0</td>\n",
       "    </tr>\n",
       "    <tr>\n",
       "      <th>14457</th>\n",
       "      <td>2019-12-31 12:00:00</td>\n",
       "      <td>2019-12-31 14:30:00</td>\n",
       "      <td>5</td>\n",
       "      <td>1</td>\n",
       "      <td>3</td>\n",
       "      <td>24</td>\n",
       "      <td>13</td>\n",
       "      <td>13</td>\n",
       "      <td>16</td>\n",
       "      <td>10</td>\n",
       "      <td>26</td>\n",
       "      <td>2.5</td>\n",
       "    </tr>\n",
       "    <tr>\n",
       "      <th>14458</th>\n",
       "      <td>2019-12-31 14:30:00</td>\n",
       "      <td>2019-12-31 16:30:00</td>\n",
       "      <td>5</td>\n",
       "      <td>1</td>\n",
       "      <td>3</td>\n",
       "      <td>24</td>\n",
       "      <td>2</td>\n",
       "      <td>0</td>\n",
       "      <td>1</td>\n",
       "      <td>1</td>\n",
       "      <td>2</td>\n",
       "      <td>2.0</td>\n",
       "    </tr>\n",
       "  </tbody>\n",
       "</table>\n",
       "<p>14459 rows × 12 columns</p>\n",
       "</div>"
      ],
      "text/plain": [
       "           open_gym_start        open_gym_end  open_gym_activity  group  \\\n",
       "0     2011-01-02 09:00:00 2011-01-02 11:30:00                  0      1   \n",
       "1     2011-01-02 10:00:00 2011-01-02 12:00:00                  8      0   \n",
       "2     2011-01-03 18:00:00 2011-01-03 22:00:00                  8      0   \n",
       "3     2011-01-04 12:00:00 2011-01-04 14:00:00                  1      0   \n",
       "4     2011-01-04 18:00:00 2011-01-04 21:30:00                  3      1   \n",
       "...                   ...                 ...                ...    ...   \n",
       "14454 2019-12-30 15:30:00 2019-12-30 17:30:00                  1      4   \n",
       "14455 2019-12-31 08:30:00 2019-12-31 12:30:00                  5      1   \n",
       "14456 2019-12-31 09:00:00 2019-12-31 12:00:00                  5      1   \n",
       "14457 2019-12-31 12:00:00 2019-12-31 14:30:00                  5      1   \n",
       "14458 2019-12-31 14:30:00 2019-12-31 16:30:00                  5      1   \n",
       "\n",
       "       facility_title  location  total_females  total_males  total_residents  \\\n",
       "0                   0        37              0            3                2   \n",
       "1                   0        14              0            2                1   \n",
       "2                   0        37              0            2                1   \n",
       "3                   0        37              0            1                1   \n",
       "4                   2         4              1            1                2   \n",
       "...               ...       ...            ...          ...              ...   \n",
       "14454               2         9              0            1                1   \n",
       "14455               0        14              7            5               10   \n",
       "14456               3        24             10           13                9   \n",
       "14457               3        24             13           13               16   \n",
       "14458               3        24              2            0                1   \n",
       "\n",
       "       total_non_residents  total  duration_hours  \n",
       "0                        1      3             2.5  \n",
       "1                        1      2             2.0  \n",
       "2                        1      2             4.0  \n",
       "3                        0      1             2.0  \n",
       "4                        0      2             3.5  \n",
       "...                    ...    ...             ...  \n",
       "14454                    0      1             2.0  \n",
       "14455                    2     12             4.0  \n",
       "14456                   14     23             3.0  \n",
       "14457                   10     26             2.5  \n",
       "14458                    1      2             2.0  \n",
       "\n",
       "[14459 rows x 12 columns]"
      ]
     },
     "execution_count": 7,
     "metadata": {},
     "output_type": "execute_result"
    }
   ],
   "source": [
    "from sklearn.preprocessing import LabelEncoder \n",
    "le=LabelEncoder() \n",
    "#we need to encode all the categorical data \n",
    "df_encoded=df.copy()\n",
    "\n",
    "categorical_columns=['open_gym_activity','group','facility_title','location']\n",
    "for c in categorical_columns:\n",
    "    df_encoded[c]=le.fit_transform(df_encoded[c])\n",
    "\n",
    "df_encoded"
   ]
  },
  {
   "cell_type": "markdown",
   "id": "b826df1b-c529-4490-9d97-9ff3f05d0ee2",
   "metadata": {},
   "source": [
    "### Train a decision tree model for Feature Importance for total number of attendees"
   ]
  },
  {
   "cell_type": "code",
   "execution_count": 8,
   "id": "7c6a9d9b-d50e-4617-99a9-4a3d495f80d7",
   "metadata": {},
   "outputs": [
    {
     "data": {
      "text/html": [
       "<div>\n",
       "<style scoped>\n",
       "    .dataframe tbody tr th:only-of-type {\n",
       "        vertical-align: middle;\n",
       "    }\n",
       "\n",
       "    .dataframe tbody tr th {\n",
       "        vertical-align: top;\n",
       "    }\n",
       "\n",
       "    .dataframe thead th {\n",
       "        text-align: right;\n",
       "    }\n",
       "</style>\n",
       "<table border=\"1\" class=\"dataframe\">\n",
       "  <thead>\n",
       "    <tr style=\"text-align: right;\">\n",
       "      <th></th>\n",
       "      <th>Factor</th>\n",
       "      <th>Importance</th>\n",
       "    </tr>\n",
       "  </thead>\n",
       "  <tbody>\n",
       "    <tr>\n",
       "      <th>7</th>\n",
       "      <td>total_residents</td>\n",
       "      <td>0.942584</td>\n",
       "    </tr>\n",
       "    <tr>\n",
       "      <th>8</th>\n",
       "      <td>total_non_residents</td>\n",
       "      <td>0.054903</td>\n",
       "    </tr>\n",
       "    <tr>\n",
       "      <th>6</th>\n",
       "      <td>total_males</td>\n",
       "      <td>0.002141</td>\n",
       "    </tr>\n",
       "    <tr>\n",
       "      <th>5</th>\n",
       "      <td>total_females</td>\n",
       "      <td>0.000204</td>\n",
       "    </tr>\n",
       "    <tr>\n",
       "      <th>4</th>\n",
       "      <td>duration_hours</td>\n",
       "      <td>0.000158</td>\n",
       "    </tr>\n",
       "    <tr>\n",
       "      <th>3</th>\n",
       "      <td>location</td>\n",
       "      <td>0.000004</td>\n",
       "    </tr>\n",
       "    <tr>\n",
       "      <th>0</th>\n",
       "      <td>open_gym_activity</td>\n",
       "      <td>0.000003</td>\n",
       "    </tr>\n",
       "    <tr>\n",
       "      <th>2</th>\n",
       "      <td>facility_title</td>\n",
       "      <td>0.000002</td>\n",
       "    </tr>\n",
       "    <tr>\n",
       "      <th>1</th>\n",
       "      <td>group</td>\n",
       "      <td>0.000002</td>\n",
       "    </tr>\n",
       "  </tbody>\n",
       "</table>\n",
       "</div>"
      ],
      "text/plain": [
       "                Factor  Importance\n",
       "7      total_residents    0.942584\n",
       "8  total_non_residents    0.054903\n",
       "6          total_males    0.002141\n",
       "5        total_females    0.000204\n",
       "4       duration_hours    0.000158\n",
       "3             location    0.000004\n",
       "0    open_gym_activity    0.000003\n",
       "2       facility_title    0.000002\n",
       "1                group    0.000002"
      ]
     },
     "execution_count": 8,
     "metadata": {},
     "output_type": "execute_result"
    }
   ],
   "source": [
    "from sklearn.tree import DecisionTreeRegressor \n",
    "from sklearn.model_selection import train_test_split\n",
    "\n",
    "feature_col=['open_gym_activity','group','facility_title','location','duration_hours','total_females','total_males','total_residents','total_non_residents']\n",
    "\n",
    "X=df_encoded[feature_col] \n",
    "y=df_encoded['total'] \n",
    "\n",
    "X_train, X_test, y_train,y_test=train_test_split(X,y,test_size=0.2,random_state=42)\n",
    "\n",
    "decision_tree=DecisionTreeRegressor(random_state=42)\n",
    "decision_tree.fit(X_train,y_train) \n",
    "\n",
    "feature_importance=decision_tree.feature_importances_ \n",
    "\n",
    "\n",
    "feature_importance_df=pd.DataFrame({'Factor':feature_col,'Importance': feature_importance}) \n",
    "feature_importance_df.sort_values(by='Importance',ascending=False)\n",
    "\n"
   ]
  },
  {
   "cell_type": "markdown",
   "id": "8c40fef7-d9c4-4c67-953c-2a0b03d0fb3e",
   "metadata": {},
   "source": [
    "### Train a decision tree model to find out what features influence the activity chosen"
   ]
  },
  {
   "cell_type": "code",
   "execution_count": 9,
   "id": "9eb303c1-b36c-4f79-bd5b-9e73bc43842a",
   "metadata": {},
   "outputs": [
    {
     "data": {
      "text/html": [
       "<div>\n",
       "<style scoped>\n",
       "    .dataframe tbody tr th:only-of-type {\n",
       "        vertical-align: middle;\n",
       "    }\n",
       "\n",
       "    .dataframe tbody tr th {\n",
       "        vertical-align: top;\n",
       "    }\n",
       "\n",
       "    .dataframe thead th {\n",
       "        text-align: right;\n",
       "    }\n",
       "</style>\n",
       "<table border=\"1\" class=\"dataframe\">\n",
       "  <thead>\n",
       "    <tr style=\"text-align: right;\">\n",
       "      <th></th>\n",
       "      <th>open_gym_start</th>\n",
       "      <th>open_gym_end</th>\n",
       "      <th>open_gym_activity</th>\n",
       "      <th>group</th>\n",
       "      <th>facility_title</th>\n",
       "      <th>location</th>\n",
       "      <th>total_females</th>\n",
       "      <th>total_males</th>\n",
       "      <th>total_residents</th>\n",
       "      <th>total_non_residents</th>\n",
       "      <th>total</th>\n",
       "      <th>duration_hours</th>\n",
       "      <th>hour_of_day</th>\n",
       "      <th>Time_of_day</th>\n",
       "    </tr>\n",
       "  </thead>\n",
       "  <tbody>\n",
       "    <tr>\n",
       "      <th>0</th>\n",
       "      <td>2011-01-02 09:00:00</td>\n",
       "      <td>2011-01-02 11:30:00</td>\n",
       "      <td>0</td>\n",
       "      <td>1</td>\n",
       "      <td>0</td>\n",
       "      <td>37</td>\n",
       "      <td>0</td>\n",
       "      <td>3</td>\n",
       "      <td>2</td>\n",
       "      <td>1</td>\n",
       "      <td>3</td>\n",
       "      <td>2.5</td>\n",
       "      <td>9</td>\n",
       "      <td>Morning</td>\n",
       "    </tr>\n",
       "    <tr>\n",
       "      <th>1</th>\n",
       "      <td>2011-01-02 10:00:00</td>\n",
       "      <td>2011-01-02 12:00:00</td>\n",
       "      <td>8</td>\n",
       "      <td>0</td>\n",
       "      <td>0</td>\n",
       "      <td>14</td>\n",
       "      <td>0</td>\n",
       "      <td>2</td>\n",
       "      <td>1</td>\n",
       "      <td>1</td>\n",
       "      <td>2</td>\n",
       "      <td>2.0</td>\n",
       "      <td>10</td>\n",
       "      <td>Morning</td>\n",
       "    </tr>\n",
       "    <tr>\n",
       "      <th>2</th>\n",
       "      <td>2011-01-03 18:00:00</td>\n",
       "      <td>2011-01-03 22:00:00</td>\n",
       "      <td>8</td>\n",
       "      <td>0</td>\n",
       "      <td>0</td>\n",
       "      <td>37</td>\n",
       "      <td>0</td>\n",
       "      <td>2</td>\n",
       "      <td>1</td>\n",
       "      <td>1</td>\n",
       "      <td>2</td>\n",
       "      <td>4.0</td>\n",
       "      <td>18</td>\n",
       "      <td>Evening</td>\n",
       "    </tr>\n",
       "    <tr>\n",
       "      <th>3</th>\n",
       "      <td>2011-01-04 12:00:00</td>\n",
       "      <td>2011-01-04 14:00:00</td>\n",
       "      <td>1</td>\n",
       "      <td>0</td>\n",
       "      <td>0</td>\n",
       "      <td>37</td>\n",
       "      <td>0</td>\n",
       "      <td>1</td>\n",
       "      <td>1</td>\n",
       "      <td>0</td>\n",
       "      <td>1</td>\n",
       "      <td>2.0</td>\n",
       "      <td>12</td>\n",
       "      <td>Afternoon</td>\n",
       "    </tr>\n",
       "    <tr>\n",
       "      <th>4</th>\n",
       "      <td>2011-01-04 18:00:00</td>\n",
       "      <td>2011-01-04 21:30:00</td>\n",
       "      <td>3</td>\n",
       "      <td>1</td>\n",
       "      <td>2</td>\n",
       "      <td>4</td>\n",
       "      <td>1</td>\n",
       "      <td>1</td>\n",
       "      <td>2</td>\n",
       "      <td>0</td>\n",
       "      <td>2</td>\n",
       "      <td>3.5</td>\n",
       "      <td>18</td>\n",
       "      <td>Evening</td>\n",
       "    </tr>\n",
       "    <tr>\n",
       "      <th>...</th>\n",
       "      <td>...</td>\n",
       "      <td>...</td>\n",
       "      <td>...</td>\n",
       "      <td>...</td>\n",
       "      <td>...</td>\n",
       "      <td>...</td>\n",
       "      <td>...</td>\n",
       "      <td>...</td>\n",
       "      <td>...</td>\n",
       "      <td>...</td>\n",
       "      <td>...</td>\n",
       "      <td>...</td>\n",
       "      <td>...</td>\n",
       "      <td>...</td>\n",
       "    </tr>\n",
       "    <tr>\n",
       "      <th>14454</th>\n",
       "      <td>2019-12-30 15:30:00</td>\n",
       "      <td>2019-12-30 17:30:00</td>\n",
       "      <td>1</td>\n",
       "      <td>4</td>\n",
       "      <td>2</td>\n",
       "      <td>9</td>\n",
       "      <td>0</td>\n",
       "      <td>1</td>\n",
       "      <td>1</td>\n",
       "      <td>0</td>\n",
       "      <td>1</td>\n",
       "      <td>2.0</td>\n",
       "      <td>15</td>\n",
       "      <td>Afternoon</td>\n",
       "    </tr>\n",
       "    <tr>\n",
       "      <th>14455</th>\n",
       "      <td>2019-12-31 08:30:00</td>\n",
       "      <td>2019-12-31 12:30:00</td>\n",
       "      <td>5</td>\n",
       "      <td>1</td>\n",
       "      <td>0</td>\n",
       "      <td>14</td>\n",
       "      <td>7</td>\n",
       "      <td>5</td>\n",
       "      <td>10</td>\n",
       "      <td>2</td>\n",
       "      <td>12</td>\n",
       "      <td>4.0</td>\n",
       "      <td>8</td>\n",
       "      <td>Morning</td>\n",
       "    </tr>\n",
       "    <tr>\n",
       "      <th>14456</th>\n",
       "      <td>2019-12-31 09:00:00</td>\n",
       "      <td>2019-12-31 12:00:00</td>\n",
       "      <td>5</td>\n",
       "      <td>1</td>\n",
       "      <td>3</td>\n",
       "      <td>24</td>\n",
       "      <td>10</td>\n",
       "      <td>13</td>\n",
       "      <td>9</td>\n",
       "      <td>14</td>\n",
       "      <td>23</td>\n",
       "      <td>3.0</td>\n",
       "      <td>9</td>\n",
       "      <td>Morning</td>\n",
       "    </tr>\n",
       "    <tr>\n",
       "      <th>14457</th>\n",
       "      <td>2019-12-31 12:00:00</td>\n",
       "      <td>2019-12-31 14:30:00</td>\n",
       "      <td>5</td>\n",
       "      <td>1</td>\n",
       "      <td>3</td>\n",
       "      <td>24</td>\n",
       "      <td>13</td>\n",
       "      <td>13</td>\n",
       "      <td>16</td>\n",
       "      <td>10</td>\n",
       "      <td>26</td>\n",
       "      <td>2.5</td>\n",
       "      <td>12</td>\n",
       "      <td>Afternoon</td>\n",
       "    </tr>\n",
       "    <tr>\n",
       "      <th>14458</th>\n",
       "      <td>2019-12-31 14:30:00</td>\n",
       "      <td>2019-12-31 16:30:00</td>\n",
       "      <td>5</td>\n",
       "      <td>1</td>\n",
       "      <td>3</td>\n",
       "      <td>24</td>\n",
       "      <td>2</td>\n",
       "      <td>0</td>\n",
       "      <td>1</td>\n",
       "      <td>1</td>\n",
       "      <td>2</td>\n",
       "      <td>2.0</td>\n",
       "      <td>14</td>\n",
       "      <td>Afternoon</td>\n",
       "    </tr>\n",
       "  </tbody>\n",
       "</table>\n",
       "<p>14459 rows × 14 columns</p>\n",
       "</div>"
      ],
      "text/plain": [
       "           open_gym_start        open_gym_end  open_gym_activity  group  \\\n",
       "0     2011-01-02 09:00:00 2011-01-02 11:30:00                  0      1   \n",
       "1     2011-01-02 10:00:00 2011-01-02 12:00:00                  8      0   \n",
       "2     2011-01-03 18:00:00 2011-01-03 22:00:00                  8      0   \n",
       "3     2011-01-04 12:00:00 2011-01-04 14:00:00                  1      0   \n",
       "4     2011-01-04 18:00:00 2011-01-04 21:30:00                  3      1   \n",
       "...                   ...                 ...                ...    ...   \n",
       "14454 2019-12-30 15:30:00 2019-12-30 17:30:00                  1      4   \n",
       "14455 2019-12-31 08:30:00 2019-12-31 12:30:00                  5      1   \n",
       "14456 2019-12-31 09:00:00 2019-12-31 12:00:00                  5      1   \n",
       "14457 2019-12-31 12:00:00 2019-12-31 14:30:00                  5      1   \n",
       "14458 2019-12-31 14:30:00 2019-12-31 16:30:00                  5      1   \n",
       "\n",
       "       facility_title  location  total_females  total_males  total_residents  \\\n",
       "0                   0        37              0            3                2   \n",
       "1                   0        14              0            2                1   \n",
       "2                   0        37              0            2                1   \n",
       "3                   0        37              0            1                1   \n",
       "4                   2         4              1            1                2   \n",
       "...               ...       ...            ...          ...              ...   \n",
       "14454               2         9              0            1                1   \n",
       "14455               0        14              7            5               10   \n",
       "14456               3        24             10           13                9   \n",
       "14457               3        24             13           13               16   \n",
       "14458               3        24              2            0                1   \n",
       "\n",
       "       total_non_residents  total  duration_hours  hour_of_day Time_of_day  \n",
       "0                        1      3             2.5            9     Morning  \n",
       "1                        1      2             2.0           10     Morning  \n",
       "2                        1      2             4.0           18     Evening  \n",
       "3                        0      1             2.0           12   Afternoon  \n",
       "4                        0      2             3.5           18     Evening  \n",
       "...                    ...    ...             ...          ...         ...  \n",
       "14454                    0      1             2.0           15   Afternoon  \n",
       "14455                    2     12             4.0            8     Morning  \n",
       "14456                   14     23             3.0            9     Morning  \n",
       "14457                   10     26             2.5           12   Afternoon  \n",
       "14458                    1      2             2.0           14   Afternoon  \n",
       "\n",
       "[14459 rows x 14 columns]"
      ]
     },
     "execution_count": 9,
     "metadata": {},
     "output_type": "execute_result"
    }
   ],
   "source": [
    "#first extract time of day \n",
    "\n",
    "df_encoded['hour_of_day']=df_encoded['open_gym_start'].dt.hour\n",
    "df_encoded \n",
    "\n",
    "def categorize_time(hour): \n",
    "    if 5<=hour<12:\n",
    "        return 'Morning'\n",
    "    elif 12 <= hour <17:\n",
    "        return 'Afternoon'\n",
    "    elif 17<=hour<21:\n",
    "        return 'Evening'\n",
    "    else:\n",
    "        return 'Night'\n",
    "\n",
    "df_encoded['Time_of_day']=df_encoded['hour_of_day'].apply(categorize_time)\n",
    "df_encoded"
   ]
  },
  {
   "cell_type": "code",
   "execution_count": 10,
   "id": "e51fc527-70f6-4160-baae-ecac44997e70",
   "metadata": {},
   "outputs": [
    {
     "data": {
      "text/html": [
       "<div>\n",
       "<style scoped>\n",
       "    .dataframe tbody tr th:only-of-type {\n",
       "        vertical-align: middle;\n",
       "    }\n",
       "\n",
       "    .dataframe tbody tr th {\n",
       "        vertical-align: top;\n",
       "    }\n",
       "\n",
       "    .dataframe thead th {\n",
       "        text-align: right;\n",
       "    }\n",
       "</style>\n",
       "<table border=\"1\" class=\"dataframe\">\n",
       "  <thead>\n",
       "    <tr style=\"text-align: right;\">\n",
       "      <th></th>\n",
       "      <th>Factor</th>\n",
       "      <th>Importance</th>\n",
       "    </tr>\n",
       "  </thead>\n",
       "  <tbody>\n",
       "    <tr>\n",
       "      <th>0</th>\n",
       "      <td>group</td>\n",
       "      <td>0.385167</td>\n",
       "    </tr>\n",
       "    <tr>\n",
       "      <th>2</th>\n",
       "      <td>location</td>\n",
       "      <td>0.188415</td>\n",
       "    </tr>\n",
       "    <tr>\n",
       "      <th>1</th>\n",
       "      <td>facility_title</td>\n",
       "      <td>0.152379</td>\n",
       "    </tr>\n",
       "    <tr>\n",
       "      <th>6</th>\n",
       "      <td>total_males</td>\n",
       "      <td>0.103013</td>\n",
       "    </tr>\n",
       "    <tr>\n",
       "      <th>9</th>\n",
       "      <td>total</td>\n",
       "      <td>0.070661</td>\n",
       "    </tr>\n",
       "    <tr>\n",
       "      <th>5</th>\n",
       "      <td>total_females</td>\n",
       "      <td>0.034599</td>\n",
       "    </tr>\n",
       "    <tr>\n",
       "      <th>3</th>\n",
       "      <td>duration_hours</td>\n",
       "      <td>0.026138</td>\n",
       "    </tr>\n",
       "    <tr>\n",
       "      <th>4</th>\n",
       "      <td>Time_of_day</td>\n",
       "      <td>0.018918</td>\n",
       "    </tr>\n",
       "    <tr>\n",
       "      <th>7</th>\n",
       "      <td>total_residents</td>\n",
       "      <td>0.012744</td>\n",
       "    </tr>\n",
       "    <tr>\n",
       "      <th>8</th>\n",
       "      <td>total_non_residents</td>\n",
       "      <td>0.007966</td>\n",
       "    </tr>\n",
       "  </tbody>\n",
       "</table>\n",
       "</div>"
      ],
      "text/plain": [
       "                Factor  Importance\n",
       "0                group    0.385167\n",
       "2             location    0.188415\n",
       "1       facility_title    0.152379\n",
       "6          total_males    0.103013\n",
       "9                total    0.070661\n",
       "5        total_females    0.034599\n",
       "3       duration_hours    0.026138\n",
       "4          Time_of_day    0.018918\n",
       "7      total_residents    0.012744\n",
       "8  total_non_residents    0.007966"
      ]
     },
     "execution_count": 10,
     "metadata": {},
     "output_type": "execute_result"
    }
   ],
   "source": [
    "#encode time of day coloum \n",
    "from sklearn.tree import DecisionTreeClassifier\n",
    "df_encoded['Time_of_day']=le.fit_transform(df_encoded['Time_of_day'])\n",
    "\n",
    "feature_col1=['group','facility_title','location','duration_hours','Time_of_day','total_females','total_males','total_residents','total_non_residents','total']\n",
    "\n",
    "X1=df_encoded[feature_col1] \n",
    "y1=df_encoded['open_gym_activity'] \n",
    "\n",
    "X_train1, X_test1, y_train1,y_test1=train_test_split(X1,y1,test_size=0.2,random_state=42)\n",
    "\n",
    "decision_tree_classifier=DecisionTreeClassifier(random_state=42)\n",
    "decision_tree_classifier.fit(X_train1,y_train1) \n",
    "\n",
    "feature_importance1=decision_tree_classifier.feature_importances_ \n",
    "\n",
    "\n",
    "feature_importance_df1=pd.DataFrame({'Factor':feature_col1,'Importance': feature_importance1}) \n",
    "feature_importance_df1.sort_values(by='Importance',ascending=False)\n",
    "\n"
   ]
  },
  {
   "cell_type": "code",
   "execution_count": 11,
   "id": "beb97314-a70e-45cd-be32-19086d1b348d",
   "metadata": {},
   "outputs": [
    {
     "data": {
      "text/plain": [
       "Text(0.5, 1.1, 'Annual Comparison of Resident and Non-Resident Participation in Open Gym Activities')"
      ]
     },
     "execution_count": 11,
     "metadata": {},
     "output_type": "execute_result"
    },
    {
     "data": {
      "image/png": "[encoded data removed]",
      "text/plain": [
       "<Figure size 768x576 with 1 Axes>"
      ]
     },
     "metadata": {},
     "output_type": "display_data"
    }
   ],
   "source": [
    "import pandas as pd\n",
    "import matplotlib.pyplot as plt\n",
    "import seaborn as sns\n",
    "import numpy as np\n",
    "import ipywidgets as widgets\n",
    "from ipywidgets import interact, interact_manual\n",
    "from matplotlib import colors\n",
    "\n",
    "gym_df = pd.read_csv('open_gym.csv')\n",
    "gym_df[\"year_of_occurrence\"] = pd.to_datetime(gym_df[\"open_gym_start\"]).dt.year\n",
    "gym_df = gym_df[['year_of_occurrence', 'total_residents', 'total_non_residents']]\n",
    "gym_df = gym_df.groupby('year_of_occurrence').sum().reset_index()\n",
    "\n",
    "fig, ax = plt.subplots(dpi = 120)\n",
    "y_index = np.arange(len(gym_df['year_of_occurrence']))\n",
    "\n",
    "width = 0.3\n",
    "gap = 0.3\n",
    "\n",
    "ax.barh(y_index + gap/1.6, gym_df['total_residents'], width, label='Total Residents', color='#0c3759')\n",
    "ax.barh(y_index - gap/1.6, gym_df['total_non_residents'], width, label='Total Non Residents', color='#4789be')\n",
    "\n",
    "ax.set_xlabel('Residents', labelpad=10)\n",
    "\n",
    "ax.set_yticks(y_index) \n",
    "ax.set_yticklabels(gym_df['year_of_occurrence'])\n",
    "ax.tick_params(axis='y', left=False)\n",
    "fig.text(0.17, 0.91, \"Total Residents\", color='#0c3759')\n",
    "fig.text(0.6, 0.91, \"Total Non Residents\", color='#4789be')\n",
    "\n",
    "ax.set_title(\"Annual Comparison of Resident and Non-Resident Participation in Open Gym Activities\", fontsize= 10, y = 1.1)"
   ]
  },
  {
   "cell_type": "code",
   "execution_count": 12,
   "id": "901ff8e6-515d-4fe2-bc14-b8d02056b894",
   "metadata": {},
   "outputs": [
    {
     "data": {
      "application/vnd.jupyter.widget-view+json": {
       "model_id": "bfe9ccdade6746f9be8dee3f1e0e3a47",
       "version_major": 2,
       "version_minor": 0
      },
      "text/plain": [
       "interactive(children=(Dropdown(description='feature_set', options=('Activity Type', 'Attendance'), value='Acti…"
      ]
     },
     "metadata": {},
     "output_type": "display_data"
    }
   ],
   "source": [
    "@interact(\n",
    "    feature_set=['Activity Type', 'Attendance'],\n",
    "    top_n=IntSlider(min=1, max=10, step=1, value=8, description='Factors:')\n",
    ")\n",
    "def plot_feature_importance(feature_set, top_n):\n",
    "    if feature_set=='Attendance':\n",
    "        data=feature_importance_df\n",
    "        title='What effects the Total Number of Attendees'\n",
    "        palette='crest'\n",
    "    else:\n",
    "        data=feature_importance_df1\n",
    "        title='What effects the Type of Activity Chosen?'\n",
    "        palette='crest'\n",
    "\n",
    "    sorted_data=data.sort_values(by='Importance', ascending=False)\n",
    "\n",
    "    plt.figure(figsize=(16, 8))\n",
    "    plt.subplot(1, 2, 1) \n",
    "    barplot = sns.barplot(x='Importance', y='Factor', data=sorted_data.head(top_n), hue='Factor', palette=palette, saturation=0.7, dodge=False)\n",
    "    plt.grid(axis='x', linestyle='--', linewidth=0.5, alpha=0.7)\n",
    "    plt.gca().set_facecolor('#f9f9f9')\n",
    "    plt.gca().set_xlim([0, sorted_data['Importance'].max()])\n",
    "    plt.title(title, fontsize=16)\n",
    "    plt.xlabel('Importance', fontsize=14)\n",
    "    plt.ylabel('')\n",
    "    plt.xticks(fontsize=12)\n",
    "    plt.yticks(fontsize=12)\n",
    "    plt.tick_params(axis='y', left=False)\n",
    "\n",
    "    plt.subplot(1, 2, 2)\n",
    "    top_feature_importance=sorted_data['Importance'].iloc[0]\n",
    "    others_sum=sorted_data['Importance'][1:].sum()\n",
    "    pie_data= pd.DataFrame({\n",
    "        'Factor': ['Most Influential Factor', 'Others'],\n",
    "        'Importance': [top_feature_importance, others_sum]\n",
    "    })\n",
    "\n",
    "    plt.pie(pie_data['Importance'], labels=pie_data['Factor'], autopct='%1.1f%%', startangle=140, colors=sns.color_palette(palette, 2), explode=[0.1, 0])\n",
    "    #autopct and explode are from chatgpt\n",
    "    plt.title('Proportion of Most Influential Factor vs Others', fontsize=16)\n",
    "\n",
    "    plt.tight_layout()\n",
    "    plt.show()"
   ]
  },
  {
   "cell_type": "code",
   "execution_count": 15,
   "id": "bfb31189-c52d-4091-9020-d63b3306dd89",
   "metadata": {},
   "outputs": [
    {
     "data": {
      "application/vnd.plotly.v1+json": {
       "config": {
        "plotlyServerURL": "https://plot.ly"
       },
       "data": [
        {
         "hovertemplate": "<b>%{hovertext}</b><br><br>Group=%{y}<br>Activity=%{x}<br>Participants=%{marker.size}<extra></extra>",
         "hovertext": [
          "Adult",
          "Adult",
          "Adult",
          "Adult",
          "Adult",
          "Adult",
          "Adult",
          "Adult",
          "Adult"
         ],
         "legendgroup": "Adult",
         "marker": {
          "color": "#636efa",
          "size": [
           0,
           5238,
           0,
           0,
           0,
           0,
           0,
           0,
           23824
          ],
          "sizemode": "area",
          "sizeref": 11.33324661810614,
          "symbol": "circle"
         },
         "mode": "markers",
         "name": "Adult",
         "orientation": "v",
         "showlegend": true,
         "type": "scatter",
         "x": [
          "Badminton",
          "Basketball",
          "Homeschool",
          "Open Gym",
          "Open Studio",
          "Pickleball",
          "Preschool",
          "Table Tennis",
          "Volleyball"
         ],
         "xaxis": "x",
         "y": [
          "Adult",
          "Adult",
          "Adult",
          "Adult",
          "Adult",
          "Adult",
          "Adult",
          "Adult",
          "Adult"
         ],
         "yaxis": "y"
        },
        {
         "hovertemplate": "<b>%{hovertext}</b><br><br>Group=%{y}<br>Activity=%{x}<br>Participants=%{marker.size}<extra></extra>",
         "hovertext": [
          "Everyone",
          "Everyone",
          "Everyone",
          "Everyone",
          "Everyone",
          "Everyone",
          "Everyone",
          "Everyone",
          "Everyone"
         ],
         "legendgroup": "Everyone",
         "marker": {
          "color": "#EF553B",
          "size": [
           43479,
           0,
           0,
           4082,
           18098,
           43565,
           0,
           5479,
           0
          ],
          "sizemode": "area",
          "sizeref": 11.33324661810614,
          "symbol": "circle"
         },
         "mode": "markers",
         "name": "Everyone",
         "orientation": "v",
         "showlegend": true,
         "type": "scatter",
         "x": [
          "Badminton",
          "Basketball",
          "Homeschool",
          "Open Gym",
          "Open Studio",
          "Pickleball",
          "Preschool",
          "Table Tennis",
          "Volleyball"
         ],
         "xaxis": "x",
         "y": [
          "Everyone",
          "Everyone",
          "Everyone",
          "Everyone",
          "Everyone",
          "Everyone",
          "Everyone",
          "Everyone",
          "Everyone"
         ],
         "yaxis": "y"
        },
        {
         "hovertemplate": "<b>%{hovertext}</b><br><br>Group=%{y}<br>Activity=%{x}<br>Participants=%{marker.size}<extra></extra>",
         "hovertext": [
          "Homeschool",
          "Homeschool",
          "Homeschool",
          "Homeschool",
          "Homeschool",
          "Homeschool",
          "Homeschool",
          "Homeschool",
          "Homeschool"
         ],
         "legendgroup": "Homeschool",
         "marker": {
          "color": "#00cc96",
          "size": [
           0,
           0,
           465,
           0,
           0,
           0,
           0,
           0,
           0
          ],
          "sizemode": "area",
          "sizeref": 11.33324661810614,
          "symbol": "circle"
         },
         "mode": "markers",
         "name": "Homeschool",
         "orientation": "v",
         "showlegend": true,
         "type": "scatter",
         "x": [
          "Badminton",
          "Basketball",
          "Homeschool",
          "Open Gym",
          "Open Studio",
          "Pickleball",
          "Preschool",
          "Table Tennis",
          "Volleyball"
         ],
         "xaxis": "x",
         "y": [
          "Homeschool",
          "Homeschool",
          "Homeschool",
          "Homeschool",
          "Homeschool",
          "Homeschool",
          "Homeschool",
          "Homeschool",
          "Homeschool"
         ],
         "yaxis": "y"
        },
        {
         "hovertemplate": "<b>%{hovertext}</b><br><br>Group=%{y}<br>Activity=%{x}<br>Participants=%{marker.size}<extra></extra>",
         "hovertext": [
          "Preschool",
          "Preschool",
          "Preschool",
          "Preschool",
          "Preschool",
          "Preschool",
          "Preschool",
          "Preschool",
          "Preschool"
         ],
         "legendgroup": "Preschool",
         "marker": {
          "color": "#ab63fa",
          "size": [
           0,
           0,
           0,
           0,
           0,
           0,
           3884,
           0,
           0
          ],
          "sizemode": "area",
          "sizeref": 11.33324661810614,
          "symbol": "circle"
         },
         "mode": "markers",
         "name": "Preschool",
         "orientation": "v",
         "showlegend": true,
         "type": "scatter",
         "x": [
          "Badminton",
          "Basketball",
          "Homeschool",
          "Open Gym",
          "Open Studio",
          "Pickleball",
          "Preschool",
          "Table Tennis",
          "Volleyball"
         ],
         "xaxis": "x",
         "y": [
          "Preschool",
          "Preschool",
          "Preschool",
          "Preschool",
          "Preschool",
          "Preschool",
          "Preschool",
          "Preschool",
          "Preschool"
         ],
         "yaxis": "y"
        },
        {
         "hovertemplate": "<b>%{hovertext}</b><br><br>Group=%{y}<br>Activity=%{x}<br>Participants=%{marker.size}<extra></extra>",
         "hovertext": [
          "Youth/Teen",
          "Youth/Teen",
          "Youth/Teen",
          "Youth/Teen",
          "Youth/Teen",
          "Youth/Teen",
          "Youth/Teen",
          "Youth/Teen",
          "Youth/Teen"
         ],
         "legendgroup": "Youth/Teen",
         "marker": {
          "color": "#FFA15A",
          "size": [
           0,
           23267,
           0,
           0,
           0,
           0,
           0,
           0,
           23
          ],
          "sizemode": "area",
          "sizeref": 11.33324661810614,
          "symbol": "circle"
         },
         "mode": "markers",
         "name": "Youth/Teen",
         "orientation": "v",
         "showlegend": true,
         "type": "scatter",
         "x": [
          "Badminton",
          "Basketball",
          "Homeschool",
          "Open Gym",
          "Open Studio",
          "Pickleball",
          "Preschool",
          "Table Tennis",
          "Volleyball"
         ],
         "xaxis": "x",
         "y": [
          "Youth/Teen",
          "Youth/Teen",
          "Youth/Teen",
          "Youth/Teen",
          "Youth/Teen",
          "Youth/Teen",
          "Youth/Teen",
          "Youth/Teen",
          "Youth/Teen"
         ],
         "yaxis": "y"
        }
       ],
       "layout": {
        "height": 630,
        "legend": {
         "itemsizing": "constant",
         "title": {
          "text": "Group"
         },
         "tracegroupgap": 0
        },
        "template": {
         "data": {
          "bar": [
           {
            "error_x": {
             "color": "#2a3f5f"
            },
            "error_y": {
             "color": "#2a3f5f"
            },
            "marker": {
             "line": {
              "color": "#E5ECF6",
              "width": 0.5
             },
             "pattern": {
              "fillmode": "overlay",
              "size": 10,
              "solidity": 0.2
             }
            },
            "type": "bar"
           }
          ],
          "barpolar": [
           {
            "marker": {
             "line": {
              "color": "#E5ECF6",
              "width": 0.5
             },
             "pattern": {
              "fillmode": "overlay",
              "size": 10,
              "solidity": 0.2
             }
            },
            "type": "barpolar"
           }
          ],
          "carpet": [
           {
            "aaxis": {
             "endlinecolor": "#2a3f5f",
             "gridcolor": "white",
             "linecolor": "white",
             "minorgridcolor": "white",
             "startlinecolor": "#2a3f5f"
            },
            "baxis": {
             "endlinecolor": "#2a3f5f",
             "gridcolor": "white",
             "linecolor": "white",
             "minorgridcolor": "white",
             "startlinecolor": "#2a3f5f"
            },
            "type": "carpet"
           }
          ],
          "choropleth": [
           {
            "colorbar": {
             "outlinewidth": 0,
             "ticks": ""
            },
            "type": "choropleth"
           }
          ],
          "contour": [
           {
            "colorbar": {
             "outlinewidth": 0,
             "ticks": ""
            },
            "colorscale": [
             [
              0,
              "#0d0887"
             ],
             [
              0.1111111111111111,
              "#46039f"
             ],
             [
              0.2222222222222222,
              "#7201a8"
             ],
             [
              0.3333333333333333,
              "#9c179e"
             ],
             [
              0.4444444444444444,
              "#bd3786"
             ],
             [
              0.5555555555555556,
              "#d8576b"
             ],
             [
              0.6666666666666666,
              "#ed7953"
             ],
             [
              0.7777777777777778,
              "#fb9f3a"
             ],
             [
              0.8888888888888888,
              "#fdca26"
             ],
             [
              1,
              "#f0f921"
             ]
            ],
            "type": "contour"
           }
          ],
          "contourcarpet": [
           {
            "colorbar": {
             "outlinewidth": 0,
             "ticks": ""
            },
            "type": "contourcarpet"
           }
          ],
          "heatmap": [
           {
            "colorbar": {
             "outlinewidth": 0,
             "ticks": ""
            },
            "colorscale": [
             [
              0,
              "#0d0887"
             ],
             [
              0.1111111111111111,
              "#46039f"
             ],
             [
              0.2222222222222222,
              "#7201a8"
             ],
             [
              0.3333333333333333,
              "#9c179e"
             ],
             [
              0.4444444444444444,
              "#bd3786"
             ],
             [
              0.5555555555555556,
              "#d8576b"
             ],
             [
              0.6666666666666666,
              "#ed7953"
             ],
             [
              0.7777777777777778,
              "#fb9f3a"
             ],
             [
              0.8888888888888888,
              "#fdca26"
             ],
             [
              1,
              "#f0f921"
             ]
            ],
            "type": "heatmap"
           }
          ],
          "heatmapgl": [
           {
            "colorbar": {
             "outlinewidth": 0,
             "ticks": ""
            },
            "colorscale": [
             [
              0,
              "#0d0887"
             ],
             [
              0.1111111111111111,
              "#46039f"
             ],
             [
              0.2222222222222222,
              "#7201a8"
             ],
             [
              0.3333333333333333,
              "#9c179e"
             ],
             [
              0.4444444444444444,
              "#bd3786"
             ],
             [
              0.5555555555555556,
              "#d8576b"
             ],
             [
              0.6666666666666666,
              "#ed7953"
             ],
             [
              0.7777777777777778,
              "#fb9f3a"
             ],
             [
              0.8888888888888888,
              "#fdca26"
             ],
             [
              1,
              "#f0f921"
             ]
            ],
            "type": "heatmapgl"
           }
          ],
          "histogram": [
           {
            "marker": {
             "pattern": {
              "fillmode": "overlay",
              "size": 10,
              "solidity": 0.2
             }
            },
            "type": "histogram"
           }
          ],
          "histogram2d": [
           {
            "colorbar": {
             "outlinewidth": 0,
             "ticks": ""
            },
            "colorscale": [
             [
              0,
              "#0d0887"
             ],
             [
              0.1111111111111111,
              "#46039f"
             ],
             [
              0.2222222222222222,
              "#7201a8"
             ],
             [
              0.3333333333333333,
              "#9c179e"
             ],
             [
              0.4444444444444444,
              "#bd3786"
             ],
             [
              0.5555555555555556,
              "#d8576b"
             ],
             [
              0.6666666666666666,
              "#ed7953"
             ],
             [
              0.7777777777777778,
              "#fb9f3a"
             ],
             [
              0.8888888888888888,
              "#fdca26"
             ],
             [
              1,
              "#f0f921"
             ]
            ],
            "type": "histogram2d"
           }
          ],
          "histogram2dcontour": [
           {
            "colorbar": {
             "outlinewidth": 0,
             "ticks": ""
            },
            "colorscale": [
             [
              0,
              "#0d0887"
             ],
             [
              0.1111111111111111,
              "#46039f"
             ],
             [
              0.2222222222222222,
              "#7201a8"
             ],
             [
              0.3333333333333333,
              "#9c179e"
             ],
             [
              0.4444444444444444,
              "#bd3786"
             ],
             [
              0.5555555555555556,
              "#d8576b"
             ],
             [
              0.6666666666666666,
              "#ed7953"
             ],
             [
              0.7777777777777778,
              "#fb9f3a"
             ],
             [
              0.8888888888888888,
              "#fdca26"
             ],
             [
              1,
              "#f0f921"
             ]
            ],
            "type": "histogram2dcontour"
           }
          ],
          "mesh3d": [
           {
            "colorbar": {
             "outlinewidth": 0,
             "ticks": ""
            },
            "type": "mesh3d"
           }
          ],
          "parcoords": [
           {
            "line": {
             "colorbar": {
              "outlinewidth": 0,
              "ticks": ""
             }
            },
            "type": "parcoords"
           }
          ],
          "pie": [
           {
            "automargin": true,
            "type": "pie"
           }
          ],
          "scatter": [
           {
            "fillpattern": {
             "fillmode": "overlay",
             "size": 10,
             "solidity": 0.2
            },
            "type": "scatter"
           }
          ],
          "scatter3d": [
           {
            "line": {
             "colorbar": {
              "outlinewidth": 0,
              "ticks": ""
             }
            },
            "marker": {
             "colorbar": {
              "outlinewidth": 0,
              "ticks": ""
             }
            },
            "type": "scatter3d"
           }
          ],
          "scattercarpet": [
           {
            "marker": {
             "colorbar": {
              "outlinewidth": 0,
              "ticks": ""
             }
            },
            "type": "scattercarpet"
           }
          ],
          "scattergeo": [
           {
            "marker": {
             "colorbar": {
              "outlinewidth": 0,
              "ticks": ""
             }
            },
            "type": "scattergeo"
           }
          ],
          "scattergl": [
           {
            "marker": {
             "colorbar": {
              "outlinewidth": 0,
              "ticks": ""
             }
            },
            "type": "scattergl"
           }
          ],
          "scattermapbox": [
           {
            "marker": {
             "colorbar": {
              "outlinewidth": 0,
              "ticks": ""
             }
            },
            "type": "scattermapbox"
           }
          ],
          "scatterpolar": [
           {
            "marker": {
             "colorbar": {
              "outlinewidth": 0,
              "ticks": ""
             }
            },
            "type": "scatterpolar"
           }
          ],
          "scatterpolargl": [
           {
            "marker": {
             "colorbar": {
              "outlinewidth": 0,
              "ticks": ""
             }
            },
            "type": "scatterpolargl"
           }
          ],
          "scatterternary": [
           {
            "marker": {
             "colorbar": {
              "outlinewidth": 0,
              "ticks": ""
             }
            },
            "type": "scatterternary"
           }
          ],
          "surface": [
           {
            "colorbar": {
             "outlinewidth": 0,
             "ticks": ""
            },
            "colorscale": [
             [
              0,
              "#0d0887"
             ],
             [
              0.1111111111111111,
              "#46039f"
             ],
             [
              0.2222222222222222,
              "#7201a8"
             ],
             [
              0.3333333333333333,
              "#9c179e"
             ],
             [
              0.4444444444444444,
              "#bd3786"
             ],
             [
              0.5555555555555556,
              "#d8576b"
             ],
             [
              0.6666666666666666,
              "#ed7953"
             ],
             [
              0.7777777777777778,
              "#fb9f3a"
             ],
             [
              0.8888888888888888,
              "#fdca26"
             ],
             [
              1,
              "#f0f921"
             ]
            ],
            "type": "surface"
           }
          ],
          "table": [
           {
            "cells": {
             "fill": {
              "color": "#EBF0F8"
             },
             "line": {
              "color": "white"
             }
            },
            "header": {
             "fill": {
              "color": "#C8D4E3"
             },
             "line": {
              "color": "white"
             }
            },
            "type": "table"
           }
          ]
         },
         "layout": {
          "annotationdefaults": {
           "arrowcolor": "#2a3f5f",
           "arrowhead": 0,
           "arrowwidth": 1
          },
          "autotypenumbers": "strict",
          "coloraxis": {
           "colorbar": {
            "outlinewidth": 0,
            "ticks": ""
           }
          },
          "colorscale": {
           "diverging": [
            [
             0,
             "#8e0152"
            ],
            [
             0.1,
             "#c51b7d"
            ],
            [
             0.2,
             "#de77ae"
            ],
            [
             0.3,
             "#f1b6da"
            ],
            [
             0.4,
             "#fde0ef"
            ],
            [
             0.5,
             "#f7f7f7"
            ],
            [
             0.6,
             "#e6f5d0"
            ],
            [
             0.7,
             "#b8e186"
            ],
            [
             0.8,
             "#7fbc41"
            ],
            [
             0.9,
             "#4d9221"
            ],
            [
             1,
             "#276419"
            ]
           ],
           "sequential": [
            [
             0,
             "#0d0887"
            ],
            [
             0.1111111111111111,
             "#46039f"
            ],
            [
             0.2222222222222222,
             "#7201a8"
            ],
            [
             0.3333333333333333,
             "#9c179e"
            ],
            [
             0.4444444444444444,
             "#bd3786"
            ],
            [
             0.5555555555555556,
             "#d8576b"
            ],
            [
             0.6666666666666666,
             "#ed7953"
            ],
            [
             0.7777777777777778,
             "#fb9f3a"
            ],
            [
             0.8888888888888888,
             "#fdca26"
            ],
            [
             1,
             "#f0f921"
            ]
           ],
           "sequentialminus": [
            [
             0,
             "#0d0887"
            ],
            [
             0.1111111111111111,
             "#46039f"
            ],
            [
             0.2222222222222222,
             "#7201a8"
            ],
            [
             0.3333333333333333,
             "#9c179e"
            ],
            [
             0.4444444444444444,
             "#bd3786"
            ],
            [
             0.5555555555555556,
             "#d8576b"
            ],
            [
             0.6666666666666666,
             "#ed7953"
            ],
            [
             0.7777777777777778,
             "#fb9f3a"
            ],
            [
             0.8888888888888888,
             "#fdca26"
            ],
            [
             1,
             "#f0f921"
            ]
           ]
          },
          "colorway": [
           "#636efa",
           "#EF553B",
           "#00cc96",
           "#ab63fa",
           "#FFA15A",
           "#19d3f3",
           "#FF6692",
           "#B6E880",
           "#FF97FF",
           "#FECB52"
          ],
          "font": {
           "color": "#2a3f5f"
          },
          "geo": {
           "bgcolor": "white",
           "lakecolor": "white",
           "landcolor": "#E5ECF6",
           "showlakes": true,
           "showland": true,
           "subunitcolor": "white"
          },
          "hoverlabel": {
           "align": "left"
          },
          "hovermode": "closest",
          "mapbox": {
           "style": "light"
          },
          "paper_bgcolor": "white",
          "plot_bgcolor": "#E5ECF6",
          "polar": {
           "angularaxis": {
            "gridcolor": "white",
            "linecolor": "white",
            "ticks": ""
           },
           "bgcolor": "#E5ECF6",
           "radialaxis": {
            "gridcolor": "white",
            "linecolor": "white",
            "ticks": ""
           }
          },
          "scene": {
           "xaxis": {
            "backgroundcolor": "#E5ECF6",
            "gridcolor": "white",
            "gridwidth": 2,
            "linecolor": "white",
            "showbackground": true,
            "ticks": "",
            "zerolinecolor": "white"
           },
           "yaxis": {
            "backgroundcolor": "#E5ECF6",
            "gridcolor": "white",
            "gridwidth": 2,
            "linecolor": "white",
            "showbackground": true,
            "ticks": "",
            "zerolinecolor": "white"
           },
           "zaxis": {
            "backgroundcolor": "#E5ECF6",
            "gridcolor": "white",
            "gridwidth": 2,
            "linecolor": "white",
            "showbackground": true,
            "ticks": "",
            "zerolinecolor": "white"
           }
          },
          "shapedefaults": {
           "line": {
            "color": "#2a3f5f"
           }
          },
          "ternary": {
           "aaxis": {
            "gridcolor": "white",
            "linecolor": "white",
            "ticks": ""
           },
           "baxis": {
            "gridcolor": "white",
            "linecolor": "white",
            "ticks": ""
           },
           "bgcolor": "#E5ECF6",
           "caxis": {
            "gridcolor": "white",
            "linecolor": "white",
            "ticks": ""
           }
          },
          "title": {
           "x": 0.05
          },
          "xaxis": {
           "automargin": true,
           "gridcolor": "white",
           "linecolor": "white",
           "ticks": "",
           "title": {
            "standoff": 15
           },
           "zerolinecolor": "white",
           "zerolinewidth": 2
          },
          "yaxis": {
           "automargin": true,
           "gridcolor": "white",
           "linecolor": "white",
           "ticks": "",
           "title": {
            "standoff": 15
           },
           "zerolinecolor": "white",
           "zerolinewidth": 2
          }
         }
        },
        "title": {
         "text": "Open Gym Activity Participation by Group",
         "x": 0.5,
         "xanchor": "center",
         "y": 0.9,
         "yanchor": "top"
        },
        "width": 1000,
        "xaxis": {
         "anchor": "y",
         "autorange": true,
         "domain": [
          0,
          1
         ],
         "range": [
          -1.1807222414704133,
          9.006321454059755
         ],
         "tickangle": -45,
         "title": {
          "text": "Activity"
         },
         "type": "category"
        },
        "yaxis": {
         "anchor": "x",
         "autorange": true,
         "categoryarray": [
          "Youth/Teen",
          "Preschool",
          "Homeschool",
          "Everyone",
          "Adult"
         ],
         "categoryorder": "array",
         "domain": [
          0,
          1
         ],
         "range": [
          -0.7309443359360193,
          4.736389029746358
         ],
         "title": {
          "text": ""
         },
         "type": "category"
        }
       }
      },
      "image/png": "[encoded data removed]",
      "text/html": [
       "<div>                            <div id=\"5da2b78a-3cab-427d-834d-d01f333322ea\" class=\"plotly-graph-div\" style=\"height:630px; width:1000px;\"></div>            <script type=\"text/javascript\">                require([\"plotly\"], function(Plotly) {                    window.PLOTLYENV=window.PLOTLYENV || {};                                    if (document.getElementById(\"5da2b78a-3cab-427d-834d-d01f333322ea\")) {                    Plotly.newPlot(                        \"5da2b78a-3cab-427d-834d-d01f333322ea\",                        [{\"hovertemplate\":\"\\u003cb\\u003e%{hovertext}\\u003c\\u002fb\\u003e\\u003cbr\\u003e\\u003cbr\\u003eGroup=%{y}\\u003cbr\\u003eActivity=%{x}\\u003cbr\\u003eParticipants=%{marker.size}\\u003cextra\\u003e\\u003c\\u002fextra\\u003e\",\"hovertext\":[\"Adult\",\"Adult\",\"Adult\",\"Adult\",\"Adult\",\"Adult\",\"Adult\",\"Adult\",\"Adult\"],\"legendgroup\":\"Adult\",\"marker\":{\"color\":\"#636efa\",\"size\":[0.0,5238.0,0.0,0.0,0.0,0.0,0.0,0.0,23824.0],\"sizemode\":\"area\",\"sizeref\":11.33324661810614,\"symbol\":\"circle\"},\"mode\":\"markers\",\"name\":\"Adult\",\"orientation\":\"v\",\"showlegend\":true,\"x\":[\"Badminton\",\"Basketball\",\"Homeschool\",\"Open Gym\",\"Open Studio\",\"Pickleball\",\"Preschool\",\"Table Tennis\",\"Volleyball\"],\"xaxis\":\"x\",\"y\":[\"Adult\",\"Adult\",\"Adult\",\"Adult\",\"Adult\",\"Adult\",\"Adult\",\"Adult\",\"Adult\"],\"yaxis\":\"y\",\"type\":\"scatter\"},{\"hovertemplate\":\"\\u003cb\\u003e%{hovertext}\\u003c\\u002fb\\u003e\\u003cbr\\u003e\\u003cbr\\u003eGroup=%{y}\\u003cbr\\u003eActivity=%{x}\\u003cbr\\u003eParticipants=%{marker.size}\\u003cextra\\u003e\\u003c\\u002fextra\\u003e\",\"hovertext\":[\"Everyone\",\"Everyone\",\"Everyone\",\"Everyone\",\"Everyone\",\"Everyone\",\"Everyone\",\"Everyone\",\"Everyone\"],\"legendgroup\":\"Everyone\",\"marker\":{\"color\":\"#EF553B\",\"size\":[43479.0,0.0,0.0,4082.0,18098.0,43565.0,0.0,5479.0,0.0],\"sizemode\":\"area\",\"sizeref\":11.33324661810614,\"symbol\":\"circle\"},\"mode\":\"markers\",\"name\":\"Everyone\",\"orientation\":\"v\",\"showlegend\":true,\"x\":[\"Badminton\",\"Basketball\",\"Homeschool\",\"Open Gym\",\"Open Studio\",\"Pickleball\",\"Preschool\",\"Table Tennis\",\"Volleyball\"],\"xaxis\":\"x\",\"y\":[\"Everyone\",\"Everyone\",\"Everyone\",\"Everyone\",\"Everyone\",\"Everyone\",\"Everyone\",\"Everyone\",\"Everyone\"],\"yaxis\":\"y\",\"type\":\"scatter\"},{\"hovertemplate\":\"\\u003cb\\u003e%{hovertext}\\u003c\\u002fb\\u003e\\u003cbr\\u003e\\u003cbr\\u003eGroup=%{y}\\u003cbr\\u003eActivity=%{x}\\u003cbr\\u003eParticipants=%{marker.size}\\u003cextra\\u003e\\u003c\\u002fextra\\u003e\",\"hovertext\":[\"Homeschool\",\"Homeschool\",\"Homeschool\",\"Homeschool\",\"Homeschool\",\"Homeschool\",\"Homeschool\",\"Homeschool\",\"Homeschool\"],\"legendgroup\":\"Homeschool\",\"marker\":{\"color\":\"#00cc96\",\"size\":[0.0,0.0,465.0,0.0,0.0,0.0,0.0,0.0,0.0],\"sizemode\":\"area\",\"sizeref\":11.33324661810614,\"symbol\":\"circle\"},\"mode\":\"markers\",\"name\":\"Homeschool\",\"orientation\":\"v\",\"showlegend\":true,\"x\":[\"Badminton\",\"Basketball\",\"Homeschool\",\"Open Gym\",\"Open Studio\",\"Pickleball\",\"Preschool\",\"Table Tennis\",\"Volleyball\"],\"xaxis\":\"x\",\"y\":[\"Homeschool\",\"Homeschool\",\"Homeschool\",\"Homeschool\",\"Homeschool\",\"Homeschool\",\"Homeschool\",\"Homeschool\",\"Homeschool\"],\"yaxis\":\"y\",\"type\":\"scatter\"},{\"hovertemplate\":\"\\u003cb\\u003e%{hovertext}\\u003c\\u002fb\\u003e\\u003cbr\\u003e\\u003cbr\\u003eGroup=%{y}\\u003cbr\\u003eActivity=%{x}\\u003cbr\\u003eParticipants=%{marker.size}\\u003cextra\\u003e\\u003c\\u002fextra\\u003e\",\"hovertext\":[\"Preschool\",\"Preschool\",\"Preschool\",\"Preschool\",\"Preschool\",\"Preschool\",\"Preschool\",\"Preschool\",\"Preschool\"],\"legendgroup\":\"Preschool\",\"marker\":{\"color\":\"#ab63fa\",\"size\":[0.0,0.0,0.0,0.0,0.0,0.0,3884.0,0.0,0.0],\"sizemode\":\"area\",\"sizeref\":11.33324661810614,\"symbol\":\"circle\"},\"mode\":\"markers\",\"name\":\"Preschool\",\"orientation\":\"v\",\"showlegend\":true,\"x\":[\"Badminton\",\"Basketball\",\"Homeschool\",\"Open Gym\",\"Open Studio\",\"Pickleball\",\"Preschool\",\"Table Tennis\",\"Volleyball\"],\"xaxis\":\"x\",\"y\":[\"Preschool\",\"Preschool\",\"Preschool\",\"Preschool\",\"Preschool\",\"Preschool\",\"Preschool\",\"Preschool\",\"Preschool\"],\"yaxis\":\"y\",\"type\":\"scatter\"},{\"hovertemplate\":\"\\u003cb\\u003e%{hovertext}\\u003c\\u002fb\\u003e\\u003cbr\\u003e\\u003cbr\\u003eGroup=%{y}\\u003cbr\\u003eActivity=%{x}\\u003cbr\\u003eParticipants=%{marker.size}\\u003cextra\\u003e\\u003c\\u002fextra\\u003e\",\"hovertext\":[\"Youth\\u002fTeen\",\"Youth\\u002fTeen\",\"Youth\\u002fTeen\",\"Youth\\u002fTeen\",\"Youth\\u002fTeen\",\"Youth\\u002fTeen\",\"Youth\\u002fTeen\",\"Youth\\u002fTeen\",\"Youth\\u002fTeen\"],\"legendgroup\":\"Youth\\u002fTeen\",\"marker\":{\"color\":\"#FFA15A\",\"size\":[0.0,23267.0,0.0,0.0,0.0,0.0,0.0,0.0,23.0],\"sizemode\":\"area\",\"sizeref\":11.33324661810614,\"symbol\":\"circle\"},\"mode\":\"markers\",\"name\":\"Youth\\u002fTeen\",\"orientation\":\"v\",\"showlegend\":true,\"x\":[\"Badminton\",\"Basketball\",\"Homeschool\",\"Open Gym\",\"Open Studio\",\"Pickleball\",\"Preschool\",\"Table Tennis\",\"Volleyball\"],\"xaxis\":\"x\",\"y\":[\"Youth\\u002fTeen\",\"Youth\\u002fTeen\",\"Youth\\u002fTeen\",\"Youth\\u002fTeen\",\"Youth\\u002fTeen\",\"Youth\\u002fTeen\",\"Youth\\u002fTeen\",\"Youth\\u002fTeen\",\"Youth\\u002fTeen\"],\"yaxis\":\"y\",\"type\":\"scatter\"}],                        {\"template\":{\"data\":{\"histogram2dcontour\":[{\"type\":\"histogram2dcontour\",\"colorbar\":{\"outlinewidth\":0,\"ticks\":\"\"},\"colorscale\":[[0.0,\"#0d0887\"],[0.1111111111111111,\"#46039f\"],[0.2222222222222222,\"#7201a8\"],[0.3333333333333333,\"#9c179e\"],[0.4444444444444444,\"#bd3786\"],[0.5555555555555556,\"#d8576b\"],[0.6666666666666666,\"#ed7953\"],[0.7777777777777778,\"#fb9f3a\"],[0.8888888888888888,\"#fdca26\"],[1.0,\"#f0f921\"]]}],\"choropleth\":[{\"type\":\"choropleth\",\"colorbar\":{\"outlinewidth\":0,\"ticks\":\"\"}}],\"histogram2d\":[{\"type\":\"histogram2d\",\"colorbar\":{\"outlinewidth\":0,\"ticks\":\"\"},\"colorscale\":[[0.0,\"#0d0887\"],[0.1111111111111111,\"#46039f\"],[0.2222222222222222,\"#7201a8\"],[0.3333333333333333,\"#9c179e\"],[0.4444444444444444,\"#bd3786\"],[0.5555555555555556,\"#d8576b\"],[0.6666666666666666,\"#ed7953\"],[0.7777777777777778,\"#fb9f3a\"],[0.8888888888888888,\"#fdca26\"],[1.0,\"#f0f921\"]]}],\"heatmap\":[{\"type\":\"heatmap\",\"colorbar\":{\"outlinewidth\":0,\"ticks\":\"\"},\"colorscale\":[[0.0,\"#0d0887\"],[0.1111111111111111,\"#46039f\"],[0.2222222222222222,\"#7201a8\"],[0.3333333333333333,\"#9c179e\"],[0.4444444444444444,\"#bd3786\"],[0.5555555555555556,\"#d8576b\"],[0.6666666666666666,\"#ed7953\"],[0.7777777777777778,\"#fb9f3a\"],[0.8888888888888888,\"#fdca26\"],[1.0,\"#f0f921\"]]}],\"heatmapgl\":[{\"type\":\"heatmapgl\",\"colorbar\":{\"outlinewidth\":0,\"ticks\":\"\"},\"colorscale\":[[0.0,\"#0d0887\"],[0.1111111111111111,\"#46039f\"],[0.2222222222222222,\"#7201a8\"],[0.3333333333333333,\"#9c179e\"],[0.4444444444444444,\"#bd3786\"],[0.5555555555555556,\"#d8576b\"],[0.6666666666666666,\"#ed7953\"],[0.7777777777777778,\"#fb9f3a\"],[0.8888888888888888,\"#fdca26\"],[1.0,\"#f0f921\"]]}],\"contourcarpet\":[{\"type\":\"contourcarpet\",\"colorbar\":{\"outlinewidth\":0,\"ticks\":\"\"}}],\"contour\":[{\"type\":\"contour\",\"colorbar\":{\"outlinewidth\":0,\"ticks\":\"\"},\"colorscale\":[[0.0,\"#0d0887\"],[0.1111111111111111,\"#46039f\"],[0.2222222222222222,\"#7201a8\"],[0.3333333333333333,\"#9c179e\"],[0.4444444444444444,\"#bd3786\"],[0.5555555555555556,\"#d8576b\"],[0.6666666666666666,\"#ed7953\"],[0.7777777777777778,\"#fb9f3a\"],[0.8888888888888888,\"#fdca26\"],[1.0,\"#f0f921\"]]}],\"surface\":[{\"type\":\"surface\",\"colorbar\":{\"outlinewidth\":0,\"ticks\":\"\"},\"colorscale\":[[0.0,\"#0d0887\"],[0.1111111111111111,\"#46039f\"],[0.2222222222222222,\"#7201a8\"],[0.3333333333333333,\"#9c179e\"],[0.4444444444444444,\"#bd3786\"],[0.5555555555555556,\"#d8576b\"],[0.6666666666666666,\"#ed7953\"],[0.7777777777777778,\"#fb9f3a\"],[0.8888888888888888,\"#fdca26\"],[1.0,\"#f0f921\"]]}],\"mesh3d\":[{\"type\":\"mesh3d\",\"colorbar\":{\"outlinewidth\":0,\"ticks\":\"\"}}],\"scatter\":[{\"fillpattern\":{\"fillmode\":\"overlay\",\"size\":10,\"solidity\":0.2},\"type\":\"scatter\"}],\"parcoords\":[{\"type\":\"parcoords\",\"line\":{\"colorbar\":{\"outlinewidth\":0,\"ticks\":\"\"}}}],\"scatterpolargl\":[{\"type\":\"scatterpolargl\",\"marker\":{\"colorbar\":{\"outlinewidth\":0,\"ticks\":\"\"}}}],\"bar\":[{\"error_x\":{\"color\":\"#2a3f5f\"},\"error_y\":{\"color\":\"#2a3f5f\"},\"marker\":{\"line\":{\"color\":\"#E5ECF6\",\"width\":0.5},\"pattern\":{\"fillmode\":\"overlay\",\"size\":10,\"solidity\":0.2}},\"type\":\"bar\"}],\"scattergeo\":[{\"type\":\"scattergeo\",\"marker\":{\"colorbar\":{\"outlinewidth\":0,\"ticks\":\"\"}}}],\"scatterpolar\":[{\"type\":\"scatterpolar\",\"marker\":{\"colorbar\":{\"outlinewidth\":0,\"ticks\":\"\"}}}],\"histogram\":[{\"marker\":{\"pattern\":{\"fillmode\":\"overlay\",\"size\":10,\"solidity\":0.2}},\"type\":\"histogram\"}],\"scattergl\":[{\"type\":\"scattergl\",\"marker\":{\"colorbar\":{\"outlinewidth\":0,\"ticks\":\"\"}}}],\"scatter3d\":[{\"type\":\"scatter3d\",\"line\":{\"colorbar\":{\"outlinewidth\":0,\"ticks\":\"\"}},\"marker\":{\"colorbar\":{\"outlinewidth\":0,\"ticks\":\"\"}}}],\"scattermapbox\":[{\"type\":\"scattermapbox\",\"marker\":{\"colorbar\":{\"outlinewidth\":0,\"ticks\":\"\"}}}],\"scatterternary\":[{\"type\":\"scatterternary\",\"marker\":{\"colorbar\":{\"outlinewidth\":0,\"ticks\":\"\"}}}],\"scattercarpet\":[{\"type\":\"scattercarpet\",\"marker\":{\"colorbar\":{\"outlinewidth\":0,\"ticks\":\"\"}}}],\"carpet\":[{\"aaxis\":{\"endlinecolor\":\"#2a3f5f\",\"gridcolor\":\"white\",\"linecolor\":\"white\",\"minorgridcolor\":\"white\",\"startlinecolor\":\"#2a3f5f\"},\"baxis\":{\"endlinecolor\":\"#2a3f5f\",\"gridcolor\":\"white\",\"linecolor\":\"white\",\"minorgridcolor\":\"white\",\"startlinecolor\":\"#2a3f5f\"},\"type\":\"carpet\"}],\"table\":[{\"cells\":{\"fill\":{\"color\":\"#EBF0F8\"},\"line\":{\"color\":\"white\"}},\"header\":{\"fill\":{\"color\":\"#C8D4E3\"},\"line\":{\"color\":\"white\"}},\"type\":\"table\"}],\"barpolar\":[{\"marker\":{\"line\":{\"color\":\"#E5ECF6\",\"width\":0.5},\"pattern\":{\"fillmode\":\"overlay\",\"size\":10,\"solidity\":0.2}},\"type\":\"barpolar\"}],\"pie\":[{\"automargin\":true,\"type\":\"pie\"}]},\"layout\":{\"autotypenumbers\":\"strict\",\"colorway\":[\"#636efa\",\"#EF553B\",\"#00cc96\",\"#ab63fa\",\"#FFA15A\",\"#19d3f3\",\"#FF6692\",\"#B6E880\",\"#FF97FF\",\"#FECB52\"],\"font\":{\"color\":\"#2a3f5f\"},\"hovermode\":\"closest\",\"hoverlabel\":{\"align\":\"left\"},\"paper_bgcolor\":\"white\",\"plot_bgcolor\":\"#E5ECF6\",\"polar\":{\"bgcolor\":\"#E5ECF6\",\"angularaxis\":{\"gridcolor\":\"white\",\"linecolor\":\"white\",\"ticks\":\"\"},\"radialaxis\":{\"gridcolor\":\"white\",\"linecolor\":\"white\",\"ticks\":\"\"}},\"ternary\":{\"bgcolor\":\"#E5ECF6\",\"aaxis\":{\"gridcolor\":\"white\",\"linecolor\":\"white\",\"ticks\":\"\"},\"baxis\":{\"gridcolor\":\"white\",\"linecolor\":\"white\",\"ticks\":\"\"},\"caxis\":{\"gridcolor\":\"white\",\"linecolor\":\"white\",\"ticks\":\"\"}},\"coloraxis\":{\"colorbar\":{\"outlinewidth\":0,\"ticks\":\"\"}},\"colorscale\":{\"sequential\":[[0.0,\"#0d0887\"],[0.1111111111111111,\"#46039f\"],[0.2222222222222222,\"#7201a8\"],[0.3333333333333333,\"#9c179e\"],[0.4444444444444444,\"#bd3786\"],[0.5555555555555556,\"#d8576b\"],[0.6666666666666666,\"#ed7953\"],[0.7777777777777778,\"#fb9f3a\"],[0.8888888888888888,\"#fdca26\"],[1.0,\"#f0f921\"]],\"sequentialminus\":[[0.0,\"#0d0887\"],[0.1111111111111111,\"#46039f\"],[0.2222222222222222,\"#7201a8\"],[0.3333333333333333,\"#9c179e\"],[0.4444444444444444,\"#bd3786\"],[0.5555555555555556,\"#d8576b\"],[0.6666666666666666,\"#ed7953\"],[0.7777777777777778,\"#fb9f3a\"],[0.8888888888888888,\"#fdca26\"],[1.0,\"#f0f921\"]],\"diverging\":[[0,\"#8e0152\"],[0.1,\"#c51b7d\"],[0.2,\"#de77ae\"],[0.3,\"#f1b6da\"],[0.4,\"#fde0ef\"],[0.5,\"#f7f7f7\"],[0.6,\"#e6f5d0\"],[0.7,\"#b8e186\"],[0.8,\"#7fbc41\"],[0.9,\"#4d9221\"],[1,\"#276419\"]]},\"xaxis\":{\"gridcolor\":\"white\",\"linecolor\":\"white\",\"ticks\":\"\",\"title\":{\"standoff\":15},\"zerolinecolor\":\"white\",\"automargin\":true,\"zerolinewidth\":2},\"yaxis\":{\"gridcolor\":\"white\",\"linecolor\":\"white\",\"ticks\":\"\",\"title\":{\"standoff\":15},\"zerolinecolor\":\"white\",\"automargin\":true,\"zerolinewidth\":2},\"scene\":{\"xaxis\":{\"backgroundcolor\":\"#E5ECF6\",\"gridcolor\":\"white\",\"linecolor\":\"white\",\"showbackground\":true,\"ticks\":\"\",\"zerolinecolor\":\"white\",\"gridwidth\":2},\"yaxis\":{\"backgroundcolor\":\"#E5ECF6\",\"gridcolor\":\"white\",\"linecolor\":\"white\",\"showbackground\":true,\"ticks\":\"\",\"zerolinecolor\":\"white\",\"gridwidth\":2},\"zaxis\":{\"backgroundcolor\":\"#E5ECF6\",\"gridcolor\":\"white\",\"linecolor\":\"white\",\"showbackground\":true,\"ticks\":\"\",\"zerolinecolor\":\"white\",\"gridwidth\":2}},\"shapedefaults\":{\"line\":{\"color\":\"#2a3f5f\"}},\"annotationdefaults\":{\"arrowcolor\":\"#2a3f5f\",\"arrowhead\":0,\"arrowwidth\":1},\"geo\":{\"bgcolor\":\"white\",\"landcolor\":\"#E5ECF6\",\"subunitcolor\":\"white\",\"showland\":true,\"showlakes\":true,\"lakecolor\":\"white\"},\"title\":{\"x\":0.05},\"mapbox\":{\"style\":\"light\"}}},\"xaxis\":{\"anchor\":\"y\",\"domain\":[0.0,1.0],\"title\":{\"text\":\"Activity\"},\"tickangle\":-45},\"yaxis\":{\"anchor\":\"x\",\"domain\":[0.0,1.0],\"title\":{\"text\":\"\"},\"categoryorder\":\"array\",\"categoryarray\":[\"Youth\\u002fTeen\",\"Preschool\",\"Homeschool\",\"Everyone\",\"Adult\"]},\"legend\":{\"title\":{\"text\":\"Group\"},\"tracegroupgap\":0,\"itemsizing\":\"constant\"},\"title\":{\"text\":\"Open Gym Activity Participation by Group\",\"x\":0.5,\"y\":0.9,\"xanchor\":\"center\",\"yanchor\":\"top\"},\"height\":630,\"width\":1000},                        {\"responsive\": true}                    ).then(function(){\n",
       "                            \n",
       "var gd = document.getElementById('5da2b78a-3cab-427d-834d-d01f333322ea');\n",
       "var x = new MutationObserver(function (mutations, observer) {{\n",
       "        var display = window.getComputedStyle(gd).display;\n",
       "        if (!display || display === 'none') {{\n",
       "            console.log([gd, 'removed!']);\n",
       "            Plotly.purge(gd);\n",
       "            observer.disconnect();\n",
       "        }}\n",
       "}});\n",
       "\n",
       "// Listen for the removal of the full notebook cells\n",
       "var notebookContainer = gd.closest('#notebook-container');\n",
       "if (notebookContainer) {{\n",
       "    x.observe(notebookContainer, {childList: true});\n",
       "}}\n",
       "\n",
       "// Listen for the clearing of the current output cell\n",
       "var outputEl = gd.closest('.output');\n",
       "if (outputEl) {{\n",
       "    x.observe(outputEl, {childList: true});\n",
       "}}\n",
       "\n",
       "                        })                };                });            </script>        </div>"
      ]
     },
     "metadata": {},
     "output_type": "display_data"
    }
   ],
   "source": [
    "import pandas as pd\n",
    "import matplotlib.pyplot as plt\n",
    "import seaborn as sns\n",
    "import numpy as np\n",
    "import ipywidgets as widgets\n",
    "from matplotlib import colors\n",
    "from ipywidgets import interact, IntRangeSlider\n",
    "import plotly.express as px\n",
    "\n",
    "gym_df = pd.read_csv('open_gym.csv')\n",
    "gym_df = gym_df[['open_gym_activity', 'group', 'total']]\n",
    "gym_df.rename(columns={'group': 'Group'}, inplace=True)\n",
    "\n",
    "aggregated_data = gym_df.groupby(['open_gym_activity', 'Group']).sum().reset_index()\n",
    "pivot_df = aggregated_data.pivot_table(index='Group', columns='open_gym_activity', values='total', fill_value=0.0)\n",
    "\n",
    "\n",
    "columns_order = ['Badminton', 'Basketball', 'Homeschool', 'Open Gym', 'Open Studio', 'Pickleball', 'Preschool', 'Table Tennis', 'Volleyball']\n",
    "pivot_df = pivot_df.reindex(columns=columns_order)\n",
    "pivot_df.reset_index(inplace=True)\n",
    "\n",
    "\n",
    "df = pivot_df.melt(id_vars=['Group'], var_name='Activity', value_name='Participants')\n",
    "\n",
    "fig = px.scatter(df, x=\"Activity\", y=\"Group\",\n",
    "                 size=\"Participants\", color=\"Group\",\n",
    "                 hover_name=\"Group\", size_max= 62, title=\"Open Gym Activity Participation by Group\",\n",
    "                 width=1000, height= 630) \n",
    "\n",
    "fig.update_layout(xaxis_title=\"Activity\", yaxis_title=\"\")\n",
    "fig.update_layout(xaxis=dict(tickangle= -45))\n",
    "fig.update_layout(title=dict(x=0.5, y=0.9, xanchor='center', yanchor='top'))\n",
    "\n",
    "fig.show()\n"
   ]
  },
  {
   "cell_type": "code",
   "execution_count": 13,
   "id": "ec64e10b",
   "metadata": {},
   "outputs": [
    {
     "data": {
      "application/vnd.jupyter.widget-view+json": {
       "model_id": "70dbfdf6e80240a5914da5c542bbc35e",
       "version_major": 2,
       "version_minor": 0
      },
      "text/plain": [
       "interactive(children=(Dropdown(description='Week Day', options=('All', 'Monday', 'Tuesday', 'Wednesday', 'Thur…"
      ]
     },
     "metadata": {},
     "output_type": "display_data"
    }
   ],
   "source": [
    "import pandas as pd\n",
    "import matplotlib.pyplot as plt\n",
    "import seaborn as sns\n",
    "import numpy as np\n",
    "import ipywidgets as widgets\n",
    "from matplotlib import colors\n",
    "from ipywidgets import interact, IntRangeSlider\n",
    "\n",
    "days = [\"All\", \"Monday\", \"Tuesday\", \"Wednesday\", \"Thursday\", \"Friday\", \"Saturday\", \"Sunday\"]\n",
    "day_of_the_week_dropdown = widgets.Dropdown(options=days, value='All', description='Week Day')\n",
    "\n",
    "@interact(day_of_the_week= day_of_the_week_dropdown, hour_range=IntRangeSlider(min=8, max=20, step=1, value=[8, 20], description='Hour Range'))\n",
    "\n",
    "def f(day_of_the_week, hour_range):\n",
    "    gym_time_df = pd.read_csv('open_gym.csv')\n",
    "    gym_time_df['open_gym_start'] = pd.to_datetime(gym_time_df['open_gym_start'])\n",
    "    gym_time_df['gym_hour'] = gym_time_df['open_gym_start'].dt.hour\n",
    "    gym_time_df['weekday'] = gym_time_df['open_gym_start'].dt.day_name()\n",
    "    gym_time_df = gym_time_df.groupby(['weekday', 'gym_hour'])['total'].sum().reset_index()\n",
    "    gym_time_df = gym_time_df.pivot(index='weekday', columns='gym_hour', values='total')\n",
    "    gym_time_df.columns = [f\"{hour%12 if hour%12 else 12} {'AM' if hour < 12 else 'PM'}\" for hour in gym_time_df.columns]\n",
    "    gym_time_df = gym_time_df.fillna(0)\n",
    "    gym_time_df = gym_time_df.reindex([\"Monday\", \"Tuesday\", \"Wednesday\", \"Thursday\", \"Friday\", \"Saturday\", \"Sunday\"])\n",
    "    \n",
    "    if(day_of_the_week != 'All'):\n",
    "        gym_time_df = gym_time_df.loc[[day_of_the_week]]\n",
    "\n",
    "    selected_hours = [f\"{hour%12 if hour%12 else 12} {'AM' if hour < 12 else 'PM'}\" for hour in range(hour_range[0], hour_range[1] + 1)]\n",
    "    gym_time_df = gym_time_df[selected_hours]\n",
    "\n",
    "    cmap = plt.get_cmap(\"Greens\", 20) \n",
    "    plt.figure(figsize=(10, 7), dpi = 100)\n",
    "    ax = sns.heatmap(data=gym_time_df, cmap=cmap, cbar_kws={'location': 'top', 'ticks': [gym_time_df.min().min(), gym_time_df.max().max()], 'shrink': 0.4, 'aspect': 11})\n",
    "    for y in range(gym_time_df.shape[0]):\n",
    "        ax.hlines(y + 1, *ax.get_xlim(), colors='white', linewidths= 1.5)\n",
    "\n",
    "    cbar = ax.collections[0].colorbar\n",
    "    cbar.set_ticks([gym_time_df.min().min(), gym_time_df.max().max()])\n",
    "    cbar.set_ticklabels(['Quiet', 'Busy'])\n",
    "    cbar.outline.set_edgecolor('black')\n",
    "    cbar.outline.set_linewidth(0.3)\n",
    "    cbar.ax.tick_params(size=0) \n",
    "\n",
    "    plt.tick_params(axis='x', bottom=False)\n",
    "    plt.tick_params(axis='y', left=False, pad= 2)\n",
    "    ax.set_ylabel('')\n",
    "\n",
    "    plt.title('Peak Hours Unveiled: When Does Everyone\\nPrefer to Participate in Open Gym?', fontsize=16, fontweight='bold', pad=80)\n",
    "    plt.show()"
   ]
  }
 ],
 "metadata": {
  "kernelspec": {
   "display_name": "Python 3 (ipykernel)",
   "language": "python",
   "name": "python3"
  },
  "language_info": {
   "codemirror_mode": {
    "name": "ipython",
    "version": 3
   },
   "file_extension": ".py",
   "mimetype": "text/x-python",
   "name": "python",
   "nbconvert_exporter": "python",
   "pygments_lexer": "ipython3",
   "version": "3.9.5"
  }
 },
 "nbformat": 4,
 "nbformat_minor": 5
}
